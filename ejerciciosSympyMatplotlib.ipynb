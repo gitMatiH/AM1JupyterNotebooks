{
 "cells": [
  {
   "cell_type": "markdown",
   "id": "9c2360db",
   "metadata": {},
   "source": [
    "# Preliminares"
   ]
  },
  {
   "cell_type": "code",
   "execution_count": 4,
   "id": "17a07cc7",
   "metadata": {},
   "outputs": [
    {
     "data": {
      "text/plain": [
       "True"
      ]
     },
     "execution_count": 4,
     "metadata": {},
     "output_type": "execute_result"
    }
   ],
   "source": [
    "from sympy import symbols\n",
    "from sympy import S, Rational, pi, I\n",
    "from sympy import S, Interval, imageset, sin, Lambda\n",
    "from sympy.abc import x\n",
    "x, y = symbols('x y', real=True)\n",
    "True == x.is_real"
   ]
  },
  {
   "cell_type": "markdown",
   "id": "a8303f5f",
   "metadata": {},
   "source": [
    "https://docs.sympy.org/latest/guides/assumptions.html\n",
    "\n",
    "https://docs.sympy.org/latest/modules/core.html#sympy.core.basic.Basic.assumptions0"
   ]
  },
  {
   "cell_type": "code",
   "execution_count": 34,
   "id": "374fe747",
   "metadata": {
    "scrolled": true
   },
   "outputs": [
    {
     "data": {
      "text/plain": [
       "True"
      ]
     },
     "execution_count": 34,
     "metadata": {},
     "output_type": "execute_result"
    }
   ],
   "source": [
    "True == y.is_complex"
   ]
  },
  {
   "cell_type": "code",
   "execution_count": 47,
   "id": "6a10dea0",
   "metadata": {},
   "outputs": [
    {
     "data": {
      "text/plain": [
       "True"
      ]
     },
     "execution_count": 47,
     "metadata": {},
     "output_type": "execute_result"
    }
   ],
   "source": [
    "z = symbols('z', real=True)\n",
    "z.is_complex"
   ]
  },
  {
   "cell_type": "code",
   "execution_count": 48,
   "id": "fef9825c",
   "metadata": {},
   "outputs": [
    {
     "data": {
      "text/latex": [
       "$\\displaystyle z$"
      ],
      "text/plain": [
       "z"
      ]
     },
     "execution_count": 48,
     "metadata": {},
     "output_type": "execute_result"
    }
   ],
   "source": [
    "re(z)"
   ]
  },
  {
   "cell_type": "code",
   "execution_count": 49,
   "id": "84bf3e9a",
   "metadata": {},
   "outputs": [
    {
     "data": {
      "text/latex": [
       "$\\displaystyle 0$"
      ],
      "text/plain": [
       "0"
      ]
     },
     "execution_count": 49,
     "metadata": {},
     "output_type": "execute_result"
    }
   ],
   "source": [
    "im(z)"
   ]
  },
  {
   "cell_type": "code",
   "execution_count": 50,
   "id": "b535ac0a",
   "metadata": {},
   "outputs": [
    {
     "data": {
      "text/latex": [
       "$\\displaystyle z + 2$"
      ],
      "text/plain": [
       "z + 2"
      ]
     },
     "execution_count": 50,
     "metadata": {},
     "output_type": "execute_result"
    }
   ],
   "source": [
    "re(z+2)"
   ]
  },
  {
   "cell_type": "code",
   "execution_count": 51,
   "id": "0d387cdf",
   "metadata": {},
   "outputs": [],
   "source": [
    "z=1"
   ]
  },
  {
   "cell_type": "code",
   "execution_count": 52,
   "id": "e8635f64",
   "metadata": {},
   "outputs": [
    {
     "data": {
      "text/latex": [
       "$\\displaystyle 3$"
      ],
      "text/plain": [
       "3"
      ]
     },
     "execution_count": 52,
     "metadata": {},
     "output_type": "execute_result"
    }
   ],
   "source": [
    "re(z+2)"
   ]
  },
  {
   "cell_type": "markdown",
   "id": "d73af168",
   "metadata": {},
   "source": [
    "# Funciones Lineales"
   ]
  },
  {
   "cell_type": "markdown",
   "id": "67e7aec0",
   "metadata": {},
   "source": [
    "## Ej 1.a"
   ]
  },
  {
   "cell_type": "code",
   "execution_count": 3,
   "id": "ce5a200d",
   "metadata": {},
   "outputs": [
    {
     "ename": "NameError",
     "evalue": "name 'symbols' is not defined",
     "output_type": "error",
     "traceback": [
      "\u001b[0;31m---------------------------------------------------------------------------\u001b[0m",
      "\u001b[0;31mNameError\u001b[0m                                 Traceback (most recent call last)",
      "\u001b[0;32m<ipython-input-3-7b174974da16>\u001b[0m in \u001b[0;36m<module>\u001b[0;34m\u001b[0m\n\u001b[0;32m----> 1\u001b[0;31m \u001b[0mx\u001b[0m\u001b[0;34m,\u001b[0m \u001b[0my\u001b[0m \u001b[0;34m=\u001b[0m \u001b[0msymbols\u001b[0m\u001b[0;34m(\u001b[0m\u001b[0;34m'x y'\u001b[0m\u001b[0;34m,\u001b[0m \u001b[0mreal\u001b[0m\u001b[0;34m=\u001b[0m\u001b[0;32mTrue\u001b[0m\u001b[0;34m)\u001b[0m\u001b[0;34m\u001b[0m\u001b[0;34m\u001b[0m\u001b[0m\n\u001b[0m",
      "\u001b[0;31mNameError\u001b[0m: name 'symbols' is not defined"
     ]
    }
   ],
   "source": [
    "x, y = symbols('x y', real=True)"
   ]
  },
  {
   "cell_type": "code",
   "execution_count": 5,
   "id": "282caf72",
   "metadata": {},
   "outputs": [
    {
     "data": {
      "text/latex": [
       "$\\displaystyle 4 - x$"
      ],
      "text/plain": [
       "4 - x"
      ]
     },
     "execution_count": 5,
     "metadata": {},
     "output_type": "execute_result"
    }
   ],
   "source": [
    "def f(x):\n",
    "    y = (-1)*x+4\n",
    "    return y\n",
    "f(x)"
   ]
  },
  {
   "cell_type": "code",
   "execution_count": 64,
   "id": "1b5856a0",
   "metadata": {},
   "outputs": [
    {
     "data": {
      "text/plain": [
       "<function __main__.f(x)>"
      ]
     },
     "execution_count": 64,
     "metadata": {},
     "output_type": "execute_result"
    }
   ],
   "source": [
    "f"
   ]
  },
  {
   "cell_type": "code",
   "execution_count": 74,
   "id": "32b7d1dc",
   "metadata": {},
   "outputs": [],
   "source": [
    "from sympy import S, Interval, imageset\n",
    "from sympy.abc import x"
   ]
  },
  {
   "cell_type": "code",
   "execution_count": 75,
   "id": "e0e0c7d1",
   "metadata": {},
   "outputs": [
    {
     "data": {
      "text/latex": [
       "$\\displaystyle \\left[2, 4\\right]$"
      ],
      "text/plain": [
       "Interval(2, 4)"
      ]
     },
     "execution_count": 75,
     "metadata": {},
     "output_type": "execute_result"
    }
   ],
   "source": [
    "imageset(x, f(x), Interval(0, 2))"
   ]
  },
  {
   "cell_type": "code",
   "execution_count": 76,
   "id": "cf37f296",
   "metadata": {},
   "outputs": [
    {
     "data": {
      "text/latex": [
       "$\\displaystyle \\left(2, 4\\right]$"
      ],
      "text/plain": [
       "Interval.Lopen(2, 4)"
      ]
     },
     "execution_count": 76,
     "metadata": {},
     "output_type": "execute_result"
    }
   ],
   "source": [
    "imageset(x, f(x), Interval.Ropen(0, 2))"
   ]
  },
  {
   "cell_type": "code",
   "execution_count": 6,
   "id": "16c5e7c9",
   "metadata": {
    "scrolled": true
   },
   "outputs": [
    {
     "data": {
      "image/png": "[encoded data removed]",
      "text/plain": [
       "<Figure size 432x288 with 1 Axes>"
      ]
     },
     "metadata": {
      "needs_background": "light"
     },
     "output_type": "display_data"
    }
   ],
   "source": [
    "import matplotlib.pyplot as plt\n",
    "import numpy as np\n",
    "\n",
    "# Data for plotting\n",
    "x = np.arange(-5.0, 5.0, 0.01)\n",
    "y = f(x)\n",
    "\n",
    "fig, ax = plt.subplots()\n",
    "ax.plot(x, y)\n",
    "ax.set(xlabel='x', ylabel='y',\n",
    "       title='f(x)= -x+4')\n",
    "ax.grid()\n",
    "\n",
    "fig.savefig(\"Ej1a.png\")\n",
    "plt.axvline(x=0, c=\"black\", label=\"x=0\", lw=4)\n",
    "plt.axhline(y=0, c=\"black\", label=\"y=0\", lw=4)\n",
    "plt.axis([-10,10,-10,10])\n",
    "plt.show()"
   ]
  },
  {
   "cell_type": "code",
   "execution_count": null,
   "id": "bbf4e2d9",
   "metadata": {},
   "outputs": [],
   "source": []
  }
 ],
 "metadata": {
  "kernelspec": {
   "display_name": "Python 3",
   "language": "python",
   "name": "python3"
  },
  "language_info": {
   "codemirror_mode": {
    "name": "ipython",
    "version": 3
   },
   "file_extension": ".py",
   "mimetype": "text/x-python",
   "name": "python",
   "nbconvert_exporter": "python",
   "pygments_lexer": "ipython3",
   "version": "3.8.10"
  }
 },
 "nbformat": 4,
 "nbformat_minor": 5
}
