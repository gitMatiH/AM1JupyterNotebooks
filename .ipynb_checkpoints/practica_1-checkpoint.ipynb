{
 "cells": [
  {
   "cell_type": "code",
   "execution_count": 126,
   "id": "b2160d92",
   "metadata": {},
   "outputs": [],
   "source": [
    "A = {2,3,5}\n",
    "B={4,6,10,20,15}"
   ]
  },
  {
   "cell_type": "code",
   "execution_count": 127,
   "id": "3986fda4",
   "metadata": {},
   "outputs": [],
   "source": [
    "def f(x):\n",
    "    y = 2*x\n",
    "    return y"
   ]
  },
  {
   "cell_type": "code",
   "execution_count": 128,
   "id": "8780bf7b",
   "metadata": {},
   "outputs": [
    {
     "data": {
      "text/plain": [
       "{2, 3, 5}"
      ]
     },
     "execution_count": 128,
     "metadata": {},
     "output_type": "execute_result"
    }
   ],
   "source": [
    "A"
   ]
  },
  {
   "cell_type": "code",
   "execution_count": 129,
   "id": "0dfefd48",
   "metadata": {},
   "outputs": [
    {
     "name": "stdout",
     "output_type": "stream",
     "text": [
      "4\n",
      "6\n",
      "10\n"
     ]
    }
   ],
   "source": [
    "for x in A:\n",
    "    print(f(x))"
   ]
  },
  {
   "cell_type": "code",
   "execution_count": 122,
   "id": "f58c6158",
   "metadata": {},
   "outputs": [
    {
     "data": {
      "text/plain": [
       "3.0"
      ]
     },
     "execution_count": 122,
     "metadata": {},
     "output_type": "execute_result"
    }
   ],
   "source": [
    "import math\n",
    "math.sqrt(9)"
   ]
  },
  {
   "cell_type": "code",
   "execution_count": 15,
   "id": "e2de852b",
   "metadata": {},
   "outputs": [
    {
     "name": "stdout",
     "output_type": "stream",
     "text": [
      "[4, 6, 10, 15, 20]\n",
      "4 pertenece a la imagen de la funcion\n",
      "6 pertenece a la imagen de la funcion\n",
      "10 pertenece a la imagen de la funcion\n",
      "15 pertenece a la imagen de la funcion\n",
      "20 pertenece a la imagen de la funcion\n"
     ]
    }
   ],
   "source": [
    "#test para ver Im f discreto, loopeara los nums de conjunto de llegada\n",
    "arrB = [] #numeros del conjunto de llegada\n",
    "arrC = [] #resultados de f(x)\n",
    "for y in B:\n",
    "    arrB.append(y)\n",
    "for x in A:\n",
    "    arrC.append(f(x))\n",
    "print(str(arrB))\n",
    "arrC = set(arrC)\n",
    "for y in B:\n",
    "    if y in arrB:\n",
    "        print(y,\"pertenece a la imagen de la funcion\")"
   ]
  },
  {
   "cell_type": "markdown",
   "id": "4717bc7e",
   "metadata": {},
   "source": [
    "# para Conjuntos Imagen, Dominio, C+, C-, Icrec, Idecrec tenemos que trabajar con conjuntos por comprension, es decir, sympy (simbólicamente). Para raices podemos usar una programacion de las formulas o numpy, y tb sympy."
   ]
  },
  {
   "cell_type": "code",
   "execution_count": 23,
   "id": "8b4b6da1",
   "metadata": {},
   "outputs": [
    {
     "data": {
      "text/plain": [
       "3.0"
      ]
     },
     "execution_count": 23,
     "metadata": {},
     "output_type": "execute_result"
    }
   ],
   "source": [
    "import math\n",
    "math.sqrt(9)"
   ]
  },
  {
   "cell_type": "code",
   "execution_count": 24,
   "id": "c397e113",
   "metadata": {},
   "outputs": [
    {
     "data": {
      "text/plain": [
       "2.8284271247461903"
      ]
     },
     "execution_count": 24,
     "metadata": {},
     "output_type": "execute_result"
    }
   ],
   "source": [
    "math.sqrt(8)"
   ]
  },
  {
   "cell_type": "code",
   "execution_count": 25,
   "id": "e778e1a0",
   "metadata": {},
   "outputs": [
    {
     "data": {
      "text/latex": [
       "$\\displaystyle \\sqrt{3}$"
      ],
      "text/plain": [
       "sqrt(3)"
      ]
     },
     "execution_count": 25,
     "metadata": {},
     "output_type": "execute_result"
    }
   ],
   "source": [
    "import sympy\n",
    "sympy.sqrt(3)"
   ]
  },
  {
   "cell_type": "code",
   "execution_count": 26,
   "id": "ddf60b74",
   "metadata": {},
   "outputs": [
    {
     "data": {
      "text/latex": [
       "$\\displaystyle 2 \\sqrt{2}$"
      ],
      "text/plain": [
       "2*sqrt(2)"
      ]
     },
     "execution_count": 26,
     "metadata": {},
     "output_type": "execute_result"
    }
   ],
   "source": [
    "sympy.sqrt(8)"
   ]
  },
  {
   "cell_type": "code",
   "execution_count": 27,
   "id": "ee498502",
   "metadata": {
    "scrolled": true
   },
   "outputs": [
    {
     "data": {
      "text/latex": [
       "$\\displaystyle x + 2 y$"
      ],
      "text/plain": [
       "x + 2*y"
      ]
     },
     "execution_count": 27,
     "metadata": {},
     "output_type": "execute_result"
    }
   ],
   "source": [
    "from sympy import symbols\n",
    "x, y = symbols('x y')\n",
    "expr = x + 2*y\n",
    "expr"
   ]
  },
  {
   "cell_type": "code",
   "execution_count": 28,
   "id": "a80f1bf1",
   "metadata": {},
   "outputs": [
    {
     "data": {
      "text/latex": [
       "$\\displaystyle x + 2 y + 1$"
      ],
      "text/plain": [
       "x + 2*y + 1"
      ]
     },
     "execution_count": 28,
     "metadata": {},
     "output_type": "execute_result"
    }
   ],
   "source": [
    "expr + 1"
   ]
  },
  {
   "cell_type": "code",
   "execution_count": 29,
   "id": "c12942e2",
   "metadata": {
    "scrolled": true
   },
   "outputs": [
    {
     "data": {
      "text/latex": [
       "$\\displaystyle 2 y$"
      ],
      "text/plain": [
       "2*y"
      ]
     },
     "execution_count": 29,
     "metadata": {},
     "output_type": "execute_result"
    }
   ],
   "source": [
    "expr - x"
   ]
  },
  {
   "cell_type": "code",
   "execution_count": 30,
   "id": "1e123974",
   "metadata": {
    "scrolled": true
   },
   "outputs": [
    {
     "data": {
      "text/latex": [
       "$\\displaystyle x \\left(x + 2 y\\right)$"
      ],
      "text/plain": [
       "x*(x + 2*y)"
      ]
     },
     "execution_count": 30,
     "metadata": {},
     "output_type": "execute_result"
    }
   ],
   "source": [
    "x*(expr)"
   ]
  },
  {
   "cell_type": "code",
   "execution_count": 31,
   "id": "28165c27",
   "metadata": {
    "scrolled": true
   },
   "outputs": [
    {
     "data": {
      "text/latex": [
       "$\\displaystyle x^{x + 2 y}$"
      ],
      "text/plain": [
       "x**(x + 2*y)"
      ]
     },
     "execution_count": 31,
     "metadata": {},
     "output_type": "execute_result"
    }
   ],
   "source": [
    "x**(expr)"
   ]
  },
  {
   "cell_type": "code",
   "execution_count": null,
   "id": "9ad613f0",
   "metadata": {},
   "outputs": [],
   "source": [
    "from sympy import expand, factor\n",
    "expanded_expr = expand(x)"
   ]
  },
  {
   "cell_type": "code",
   "execution_count": 16,
   "id": "be385541",
   "metadata": {},
   "outputs": [],
   "source": [
    "import sympy as smp\n",
    "from sympy import *"
   ]
  },
  {
   "cell_type": "code",
   "execution_count": 17,
   "id": "57347190",
   "metadata": {},
   "outputs": [],
   "source": [
    "x, y, c = smp.symbols('x y c')"
   ]
  },
  {
   "cell_type": "code",
   "execution_count": 18,
   "id": "38857585",
   "metadata": {},
   "outputs": [
    {
     "data": {
      "text/latex": [
       "$\\displaystyle x$"
      ],
      "text/plain": [
       "x"
      ]
     },
     "execution_count": 18,
     "metadata": {},
     "output_type": "execute_result"
    }
   ],
   "source": [
    "x"
   ]
  },
  {
   "cell_type": "code",
   "execution_count": 19,
   "id": "33444f38",
   "metadata": {},
   "outputs": [
    {
     "data": {
      "text/latex": [
       "$\\displaystyle 2 \\sin{\\left(x \\right)}$"
      ],
      "text/plain": [
       "2*sin(x)"
      ]
     },
     "execution_count": 19,
     "metadata": {},
     "output_type": "execute_result"
    }
   ],
   "source": [
    "sin(x)+sin(x)"
   ]
  },
  {
   "cell_type": "code",
   "execution_count": 20,
   "id": "4221dfd4",
   "metadata": {},
   "outputs": [
    {
     "data": {
      "text/latex": [
       "$\\displaystyle 1$"
      ],
      "text/plain": [
       "1"
      ]
     },
     "execution_count": 20,
     "metadata": {},
     "output_type": "execute_result"
    }
   ],
   "source": [
    "smp.limit(smp.sin(x/2), x, smp.pi) #limite de sen(x/2) para x tendiendo a pi"
   ]
  },
  {
   "cell_type": "code",
   "execution_count": 21,
   "id": "27fb31c4",
   "metadata": {},
   "outputs": [
    {
     "data": {
      "text/latex": [
       "$\\displaystyle 0$"
      ],
      "text/plain": [
       "0"
      ]
     },
     "execution_count": 21,
     "metadata": {},
     "output_type": "execute_result"
    }
   ],
   "source": [
    "smp.limit(smp.sin(x), x, smp.pi) #limite de sen(x) para x tendiendo a pi"
   ]
  },
  {
   "cell_type": "code",
   "execution_count": 34,
   "id": "4e38606c",
   "metadata": {},
   "outputs": [
    {
     "name": "stdout",
     "output_type": "stream",
     "text": [
      "True\n"
     ]
    }
   ],
   "source": [
    "z = sympy.Symbol(\"z\", real=True)\n",
    "print(z.is_real)"
   ]
  },
  {
   "cell_type": "code",
   "execution_count": 35,
   "id": "7e5bb30a",
   "metadata": {},
   "outputs": [
    {
     "data": {
      "text/latex": [
       "$\\displaystyle f{\\left(0 \\right)} + x \\left. \\frac{d}{d x} f{\\left(x \\right)} \\right|_{\\substack{ x=0 }} + \\frac{x^{2} \\left. \\frac{d^{2}}{d x^{2}} f{\\left(x \\right)} \\right|_{\\substack{ x=0 }}}{2} + \\frac{x^{3} \\left. \\frac{d^{3}}{d x^{3}} f{\\left(x \\right)} \\right|_{\\substack{ x=0 }}}{6} + \\frac{x^{4} \\left. \\frac{d^{4}}{d x^{4}} f{\\left(x \\right)} \\right|_{\\substack{ x=0 }}}{24} + \\frac{x^{5} \\left. \\frac{d^{5}}{d x^{5}} f{\\left(x \\right)} \\right|_{\\substack{ x=0 }}}{120} + O\\left(x^{6}\\right)$"
      ],
      "text/plain": [
       "f(0) + x*Subs(Derivative(f(_x), _x), _x, 0) + x**2*Subs(Derivative(f(_x), (_x, 2)), _x, 0)/2 + x**3*Subs(Derivative(f(_x), (_x, 3)), _x, 0)/6 + x**4*Subs(Derivative(f(_x), (_x, 4)), _x, 0)/24 + x**5*Subs(Derivative(f(_x), (_x, 5)), _x, 0)/120 + O(x**6)"
      ]
     },
     "execution_count": 35,
     "metadata": {},
     "output_type": "execute_result"
    }
   ],
   "source": [
    "f = sympy.Function(\"f\")(x)\n",
    "sympy.series(f, x)"
   ]
  },
  {
   "cell_type": "code",
   "execution_count": 36,
   "id": "5afc1380",
   "metadata": {},
   "outputs": [
    {
     "data": {
      "text/latex": [
       "$\\displaystyle \\left[\\begin{matrix}1\\\\2\\end{matrix}\\right]$"
      ],
      "text/plain": [
       "Matrix([\n",
       "[1],\n",
       "[2]])"
      ]
     },
     "execution_count": 36,
     "metadata": {},
     "output_type": "execute_result"
    }
   ],
   "source": [
    "sympy.Matrix([1, 2])"
   ]
  },
  {
   "cell_type": "code",
   "execution_count": 37,
   "id": "12933054",
   "metadata": {},
   "outputs": [
    {
     "data": {
      "text/latex": [
       "$\\displaystyle \\left[\\begin{matrix}1 & 2\\end{matrix}\\right]$"
      ],
      "text/plain": [
       "Matrix([[1, 2]])"
      ]
     },
     "execution_count": 37,
     "metadata": {},
     "output_type": "execute_result"
    }
   ],
   "source": [
    "sympy.Matrix([[1, 2]])"
   ]
  },
  {
   "cell_type": "code",
   "execution_count": 38,
   "id": "cb0a9665",
   "metadata": {},
   "outputs": [
    {
     "data": {
      "text/latex": [
       "$\\displaystyle \\left[\\begin{matrix}1 & 2\\\\3 & 4\\end{matrix}\\right]$"
      ],
      "text/plain": [
       "Matrix([\n",
       "[1, 2],\n",
       "[3, 4]])"
      ]
     },
     "execution_count": 38,
     "metadata": {},
     "output_type": "execute_result"
    }
   ],
   "source": [
    "sympy.Matrix([[1, 2], [3, 4]])"
   ]
  },
  {
   "cell_type": "code",
   "execution_count": 39,
   "id": "6dd9cf1a",
   "metadata": {},
   "outputs": [
    {
     "data": {
      "text/latex": [
       "$\\displaystyle \\left[\\begin{matrix}0 & 1 & 2 & 3\\\\10 & 11 & 12 & 13\\\\20 & 21 & 22 & 23\\end{matrix}\\right]$"
      ],
      "text/plain": [
       "Matrix([\n",
       "[ 0,  1,  2,  3],\n",
       "[10, 11, 12, 13],\n",
       "[20, 21, 22, 23]])"
      ]
     },
     "execution_count": 39,
     "metadata": {},
     "output_type": "execute_result"
    }
   ],
   "source": [
    "sympy.Matrix(3, 4, lambda m, n: 10 * m + n)"
   ]
  },
  {
   "cell_type": "code",
   "execution_count": 3,
   "id": "40c7f7eb",
   "metadata": {},
   "outputs": [
    {
     "name": "stdout",
     "output_type": "stream",
     "text": [
      "1\n"
     ]
    }
   ],
   "source": [
    "import sympy\n",
    "from sympy import * \n",
    "\n",
    "x, y = symbols('x y')\n",
    "# sería el DIV o %  \n",
    "# Using sympy.Mod() method\n",
    "gfg = Mod(x, y).subs({x:7, y:2})\n",
    "  \n",
    "print(gfg)"
   ]
  },
  {
   "cell_type": "code",
   "execution_count": 5,
   "id": "eb59b1bf",
   "metadata": {},
   "outputs": [
    {
     "name": "stdout",
     "output_type": "stream",
     "text": [
      "1\n"
     ]
    }
   ],
   "source": [
    "from sympy.functions import Abs\n",
    "res = Abs(-1)\n",
    "print(res)"
   ]
  },
  {
   "cell_type": "code",
   "execution_count": 6,
   "id": "6dec92c6",
   "metadata": {},
   "outputs": [
    {
     "name": "stdout",
     "output_type": "stream",
     "text": [
      "Abs(x - 1) < 4\n"
     ]
    }
   ],
   "source": [
    "from sympy.functions import Abs\n",
    "x, y = symbols('x y') # como le pongo que sean reales\n",
    "res = (Abs(x-1) < 4)\n",
    "print(res)"
   ]
  },
  {
   "cell_type": "code",
   "execution_count": 9,
   "id": "82bdff06",
   "metadata": {},
   "outputs": [
    {
     "data": {
      "text/latex": [
       "$\\displaystyle 2 < x \\vee x < 0$"
      ],
      "text/plain": [
       "(2 < x) | (x < 0)"
      ]
     },
     "execution_count": 9,
     "metadata": {},
     "output_type": "execute_result"
    }
   ],
   "source": [
    "# ahora resolviendo, como se hace? factor, simplify, resolve, roots, ser, etc, range x? values x / condition?\n",
    "from sympy import *\n",
    "x = Symbol('x', real=True)\n",
    "solve(abs(1-x)>1)"
   ]
  },
  {
   "cell_type": "code",
   "execution_count": 10,
   "id": "7c733c4d",
   "metadata": {},
   "outputs": [
    {
     "data": {
      "text/latex": [
       "$\\displaystyle 2 < x \\wedge x < 8$"
      ],
      "text/plain": [
       "(2 < x) & (x < 8)"
      ]
     },
     "execution_count": 10,
     "metadata": {},
     "output_type": "execute_result"
    }
   ],
   "source": [
    "# ahora resolviendo, como se hace? factor, simplify, resolve, roots, ser, etc, range x? values x / condition?\n",
    "from sympy import *\n",
    "x = Symbol('x', real=True)\n",
    "reduce_abs_inequality(Abs(x - 5) - 3, '<', x)"
   ]
  },
  {
   "cell_type": "code",
   "execution_count": 11,
   "id": "cf40a9ee",
   "metadata": {},
   "outputs": [
    {
     "data": {
      "text/latex": [
       "$\\displaystyle \\left[0, 1\\right]$"
      ],
      "text/plain": [
       "Interval(0, 1)"
      ]
     },
     "execution_count": 11,
     "metadata": {},
     "output_type": "execute_result"
    }
   ],
   "source": [
    "from sympy import S, Interval\n",
    "S.Reals.closure\n",
    "Interval(0, 1).closure"
   ]
  },
  {
   "cell_type": "code",
   "execution_count": 12,
   "id": "b52405ab",
   "metadata": {},
   "outputs": [
    {
     "data": {
      "text/latex": [
       "$\\displaystyle \\left(-\\infty, 0\\right) \\cup \\left(1, \\infty\\right)$"
      ],
      "text/plain": [
       "Union(Interval.open(-oo, 0), Interval.open(1, oo))"
      ]
     },
     "execution_count": 12,
     "metadata": {},
     "output_type": "execute_result"
    }
   ],
   "source": [
    "from sympy import Interval, S\n",
    "Interval(0, 1).complement(S.Reals)"
   ]
  },
  {
   "cell_type": "code",
   "execution_count": 13,
   "id": "5b2ff7fe",
   "metadata": {},
   "outputs": [
    {
     "data": {
      "text/latex": [
       "$\\displaystyle \\mathbb{U} \\setminus \\left[0, 1\\right]$"
      ],
      "text/plain": [
       "Complement(UniversalSet, Interval(0, 1))"
      ]
     },
     "execution_count": 13,
     "metadata": {},
     "output_type": "execute_result"
    }
   ],
   "source": [
    "Interval(0, 1).complement(S.UniversalSet)"
   ]
  },
  {
   "cell_type": "code",
   "execution_count": 14,
   "id": "6c63e618",
   "metadata": {},
   "outputs": [
    {
     "data": {
      "text/latex": [
       "$\\displaystyle \\text{True}$"
      ],
      "text/plain": [
       "True"
      ]
     },
     "execution_count": 14,
     "metadata": {},
     "output_type": "execute_result"
    }
   ],
   "source": [
    "# es elemento de intervalo (intervalo será subclase de conjunto? Podremos usar un conjunto directamente?)\n",
    "Interval(0, 1).contains(0.5)"
   ]
  },
  {
   "cell_type": "code",
   "execution_count": 15,
   "id": "b410d38f",
   "metadata": {},
   "outputs": [
    {
     "data": {
      "text/latex": [
       "$\\displaystyle 0$"
      ],
      "text/plain": [
       "0"
      ]
     },
     "execution_count": 15,
     "metadata": {},
     "output_type": "execute_result"
    }
   ],
   "source": [
    "# infimo (vs supremo)\n",
    "from sympy import Interval, Union\n",
    "Interval(0, 1).inf\n",
    "Union(Interval(0, 1), Interval(2, 3)).inf"
   ]
  },
  {
   "cell_type": "code",
   "execution_count": 16,
   "id": "c171f751",
   "metadata": {},
   "outputs": [
    {
     "data": {
      "text/latex": [
       "$\\displaystyle \\emptyset$"
      ],
      "text/plain": [
       "EmptySet"
      ]
     },
     "execution_count": 16,
     "metadata": {},
     "output_type": "execute_result"
    }
   ],
   "source": [
    "from sympy import Interval\n",
    "Interval(0, 1).interior\n",
    "Interval(0, 1).boundary.interior"
   ]
  },
  {
   "cell_type": "code",
   "execution_count": 17,
   "id": "2cfef882",
   "metadata": {},
   "outputs": [
    {
     "data": {
      "text/latex": [
       "$\\displaystyle \\emptyset$"
      ],
      "text/plain": [
       "EmptySet"
      ]
     },
     "execution_count": 17,
     "metadata": {},
     "output_type": "execute_result"
    }
   ],
   "source": [
    "from sympy import Interval\n",
    "Interval(1, 3).intersect(Interval(1, 2))\n",
    "from sympy import imageset, Lambda, symbols, S\n",
    "n, m = symbols('n m')\n",
    "a = imageset(Lambda(n, 2*n), S.Integers)\n",
    "a.intersect(imageset(Lambda(m, 2*m + 1), S.Integers))"
   ]
  },
  {
   "cell_type": "code",
   "execution_count": 24,
   "id": "1d1b7028",
   "metadata": {},
   "outputs": [
    {
     "data": {
      "text/plain": [
       "False"
      ]
     },
     "execution_count": 24,
     "metadata": {},
     "output_type": "execute_result"
    }
   ],
   "source": [
    "# ver si hacen overlap\n",
    "from sympy import Interval\n",
    "Interval(0, 2).is_disjoint(Interval(1, 2))"
   ]
  },
  {
   "cell_type": "code",
   "execution_count": 23,
   "id": "d594d1ef",
   "metadata": {},
   "outputs": [
    {
     "data": {
      "text/plain": [
       "True"
      ]
     },
     "execution_count": 23,
     "metadata": {},
     "output_type": "execute_result"
    }
   ],
   "source": [
    "Interval(0, 2).is_disjoint(Interval(3, 4))"
   ]
  },
  {
   "cell_type": "code",
   "execution_count": 22,
   "id": "7c941dca",
   "metadata": {},
   "outputs": [
    {
     "data": {
      "text/plain": [
       "True"
      ]
     },
     "execution_count": 22,
     "metadata": {},
     "output_type": "execute_result"
    }
   ],
   "source": [
    "#Returns True if self is a proper subset of other.\n",
    "from sympy import Interval\n",
    "Interval(0, 0.5).is_proper_subset(Interval(0, 1))"
   ]
  },
  {
   "cell_type": "code",
   "execution_count": 21,
   "id": "509067ab",
   "metadata": {},
   "outputs": [
    {
     "data": {
      "text/plain": [
       "False"
      ]
     },
     "execution_count": 21,
     "metadata": {},
     "output_type": "execute_result"
    }
   ],
   "source": [
    "Interval(0, 1).is_proper_subset(Interval(0, 1))"
   ]
  },
  {
   "cell_type": "code",
   "execution_count": 26,
   "id": "a264f50d",
   "metadata": {},
   "outputs": [
    {
     "data": {
      "text/plain": [
       "True"
      ]
     },
     "execution_count": 26,
     "metadata": {},
     "output_type": "execute_result"
    }
   ],
   "source": [
    "from sympy import Interval\n",
    "Interval(0, 1).is_proper_superset(Interval(0, 0.5))"
   ]
  },
  {
   "cell_type": "code",
   "execution_count": 25,
   "id": "67aa4d48",
   "metadata": {},
   "outputs": [
    {
     "data": {
      "text/plain": [
       "False"
      ]
     },
     "execution_count": 25,
     "metadata": {},
     "output_type": "execute_result"
    }
   ],
   "source": [
    "Interval(0, 1).is_proper_superset(Interval(0, 1))"
   ]
  },
  {
   "cell_type": "code",
   "execution_count": 28,
   "id": "8d91bc2d",
   "metadata": {},
   "outputs": [
    {
     "data": {
      "text/plain": [
       "True"
      ]
     },
     "execution_count": 28,
     "metadata": {},
     "output_type": "execute_result"
    }
   ],
   "source": [
    "from sympy import Interval\n",
    "Interval(0, 0.5).is_subset(Interval(0, 1))"
   ]
  },
  {
   "cell_type": "code",
   "execution_count": 29,
   "id": "aed45db5",
   "metadata": {},
   "outputs": [
    {
     "data": {
      "text/plain": [
       "False"
      ]
     },
     "execution_count": 29,
     "metadata": {},
     "output_type": "execute_result"
    }
   ],
   "source": [
    "Interval(0, 1).is_subset(Interval(0, 1, left_open=True))"
   ]
  },
  {
   "cell_type": "code",
   "execution_count": 30,
   "id": "5150a6b3",
   "metadata": {},
   "outputs": [],
   "source": [
    "from sympy import Interval, Matrix, FiniteSet, EmptySet, ProductSet, PowerSet"
   ]
  },
  {
   "cell_type": "code",
   "execution_count": 31,
   "id": "c6bf6594",
   "metadata": {},
   "outputs": [
    {
     "data": {
      "text/plain": [
       "SetKind(MatrixKind(NumberKind))"
      ]
     },
     "execution_count": 31,
     "metadata": {},
     "output_type": "execute_result"
    }
   ],
   "source": [
    "FiniteSet(Matrix([1, 2])).kind"
   ]
  },
  {
   "cell_type": "code",
   "execution_count": 32,
   "id": "d892439e",
   "metadata": {},
   "outputs": [
    {
     "data": {
      "text/plain": [
       "SetKind(NumberKind)"
      ]
     },
     "execution_count": 32,
     "metadata": {},
     "output_type": "execute_result"
    }
   ],
   "source": [
    "Interval(1, 2).kind"
   ]
  },
  {
   "cell_type": "code",
   "execution_count": 33,
   "id": "eadc3e14",
   "metadata": {},
   "outputs": [
    {
     "data": {
      "text/plain": [
       "SetKind()"
      ]
     },
     "execution_count": 33,
     "metadata": {},
     "output_type": "execute_result"
    }
   ],
   "source": [
    "EmptySet.kind"
   ]
  },
  {
   "cell_type": "code",
   "execution_count": 34,
   "id": "c5831791",
   "metadata": {},
   "outputs": [
    {
     "data": {
      "text/plain": [
       "SetKind(SetKind(NumberKind))"
      ]
     },
     "execution_count": 34,
     "metadata": {},
     "output_type": "execute_result"
    }
   ],
   "source": [
    "PowerSet({1, 2, 3}).kind"
   ]
  },
  {
   "cell_type": "code",
   "execution_count": 35,
   "id": "d6f040b9",
   "metadata": {},
   "outputs": [
    {
     "data": {
      "text/plain": [
       "SetKind(TupleKind(NumberKind, NumberKind))"
      ]
     },
     "execution_count": 35,
     "metadata": {},
     "output_type": "execute_result"
    }
   ],
   "source": [
    "p = ProductSet(FiniteSet(1, 2), FiniteSet(3, 4))\n",
    "list(p)\n",
    "p.kind"
   ]
  },
  {
   "cell_type": "code",
   "execution_count": 37,
   "id": "720af181",
   "metadata": {},
   "outputs": [
    {
     "data": {
      "text/latex": [
       "$\\displaystyle 1$"
      ],
      "text/plain": [
       "1"
      ]
     },
     "execution_count": 37,
     "metadata": {},
     "output_type": "execute_result"
    }
   ],
   "source": [
    "#The (Lebesgue) measure of self.\n",
    "from sympy import Interval, Union\n",
    "Interval(0, 1).measure"
   ]
  },
  {
   "cell_type": "code",
   "execution_count": 36,
   "id": "148bcee6",
   "metadata": {},
   "outputs": [
    {
     "data": {
      "text/latex": [
       "$\\displaystyle 2$"
      ],
      "text/plain": [
       "2"
      ]
     },
     "execution_count": 36,
     "metadata": {},
     "output_type": "execute_result"
    }
   ],
   "source": [
    "Union(Interval(0, 1), Interval(2, 3)).measure"
   ]
  },
  {
   "cell_type": "code",
   "execution_count": 38,
   "id": "421723b5",
   "metadata": {},
   "outputs": [],
   "source": [
    "from sympy import EmptySet, FiniteSet, Interval"
   ]
  },
  {
   "cell_type": "code",
   "execution_count": 39,
   "id": "2be3de29",
   "metadata": {},
   "outputs": [
    {
     "data": {
      "text/latex": [
       "$\\displaystyle \\left\\{\\emptyset\\right\\}$"
      ],
      "text/plain": [
       "{EmptySet}"
      ]
     },
     "execution_count": 39,
     "metadata": {},
     "output_type": "execute_result"
    }
   ],
   "source": [
    "A = EmptySet\n",
    "A.powerset()"
   ]
  },
  {
   "cell_type": "code",
   "execution_count": 40,
   "id": "93458275",
   "metadata": {},
   "outputs": [
    {
     "data": {
      "text/plain": [
       "True"
      ]
     },
     "execution_count": 40,
     "metadata": {},
     "output_type": "execute_result"
    }
   ],
   "source": [
    "A = FiniteSet(1, 2)\n",
    "a, b, c = FiniteSet(1), FiniteSet(2), FiniteSet(1, 2)\n",
    "A.powerset() == FiniteSet(a, b, c, EmptySet)"
   ]
  },
  {
   "cell_type": "code",
   "execution_count": 41,
   "id": "1792ccb2",
   "metadata": {},
   "outputs": [
    {
     "data": {
      "text/latex": [
       "$\\displaystyle \\mathcal{P}\\left(\\left[1, 2\\right]\\right)$"
      ],
      "text/plain": [
       "PowerSet(Interval(1, 2))"
      ]
     },
     "execution_count": 41,
     "metadata": {},
     "output_type": "execute_result"
    }
   ],
   "source": [
    "Interval(1, 2).powerset()"
   ]
  },
  {
   "cell_type": "code",
   "execution_count": 42,
   "id": "da7d61ac",
   "metadata": {},
   "outputs": [
    {
     "data": {
      "text/latex": [
       "$\\displaystyle 1$"
      ],
      "text/plain": [
       "1"
      ]
     },
     "execution_count": 42,
     "metadata": {},
     "output_type": "execute_result"
    }
   ],
   "source": [
    "#The supremum of self.\n",
    "\n",
    "from sympy import Interval, Union\n",
    "Interval(0, 1).sup\n"
   ]
  },
  {
   "cell_type": "code",
   "execution_count": 43,
   "id": "89fc4174",
   "metadata": {},
   "outputs": [
    {
     "data": {
      "text/latex": [
       "$\\displaystyle 3$"
      ],
      "text/plain": [
       "3"
      ]
     },
     "execution_count": 43,
     "metadata": {},
     "output_type": "execute_result"
    }
   ],
   "source": [
    "Union(Interval(0, 1), Interval(2, 3)).sup"
   ]
  },
  {
   "cell_type": "code",
   "execution_count": 44,
   "id": "77c1952f",
   "metadata": {},
   "outputs": [
    {
     "data": {
      "text/latex": [
       "$\\displaystyle \\left(-\\infty, 1\\right) \\cup \\left(3, \\infty\\right)$"
      ],
      "text/plain": [
       "Union(Interval.open(-oo, 1), Interval.open(3, oo))"
      ]
     },
     "execution_count": 44,
     "metadata": {},
     "output_type": "execute_result"
    }
   ],
   "source": [
    "from sympy import Interval, S\n",
    "Interval(1, 3).symmetric_difference(S.Reals)\n"
   ]
  },
  {
   "cell_type": "code",
   "execution_count": 45,
   "id": "93a9f239",
   "metadata": {},
   "outputs": [
    {
     "data": {
      "text/latex": [
       "$\\displaystyle \\left(-\\infty, 1\\right) \\cup \\left(10, \\infty\\right)$"
      ],
      "text/plain": [
       "Union(Interval.open(-oo, 1), Interval.open(10, oo))"
      ]
     },
     "execution_count": 45,
     "metadata": {},
     "output_type": "execute_result"
    }
   ],
   "source": [
    "Interval(1, 10).symmetric_difference(S.Reals)"
   ]
  },
  {
   "cell_type": "code",
   "execution_count": 46,
   "id": "b82c42f0",
   "metadata": {},
   "outputs": [
    {
     "data": {
      "text/latex": [
       "$\\displaystyle \\mathbb{R}$"
      ],
      "text/plain": [
       "Reals"
      ]
     },
     "execution_count": 46,
     "metadata": {},
     "output_type": "execute_result"
    }
   ],
   "source": [
    "from sympy import S, EmptySet\n",
    "S.Reals.symmetric_difference(EmptySet)"
   ]
  },
  {
   "cell_type": "code",
   "execution_count": 47,
   "id": "c820cb99",
   "metadata": {},
   "outputs": [
    {
     "data": {
      "text/latex": [
       "$\\displaystyle \\left[0, 1\\right] \\cup \\left[2, 3\\right]$"
      ],
      "text/plain": [
       "Union(Interval(0, 1), Interval(2, 3))"
      ]
     },
     "execution_count": 47,
     "metadata": {},
     "output_type": "execute_result"
    }
   ],
   "source": [
    "# union(other)\n",
    "# Returns the union of self and other.\n",
    "from sympy import Interval, FiniteSet\n",
    "Interval(0, 1).union(Interval(2, 3))\n"
   ]
  },
  {
   "cell_type": "code",
   "execution_count": 48,
   "id": "e977f4a7",
   "metadata": {},
   "outputs": [
    {
     "data": {
      "text/latex": [
       "$\\displaystyle \\left[0, 1\\right] \\cup \\left[2, 3\\right]$"
      ],
      "text/plain": [
       "Union(Interval(0, 1), Interval(2, 3))"
      ]
     },
     "execution_count": 48,
     "metadata": {},
     "output_type": "execute_result"
    }
   ],
   "source": [
    "Interval(0, 1) + Interval(2, 3)\n",
    "#As a shortcut it is possible to use the + operator ^^"
   ]
  },
  {
   "cell_type": "code",
   "execution_count": 49,
   "id": "ea936633",
   "metadata": {},
   "outputs": [
    {
     "data": {
      "text/latex": [
       "$\\displaystyle \\left(1, 2\\right] \\cup \\left\\{3\\right\\}$"
      ],
      "text/plain": [
       "Union({3}, Interval.Lopen(1, 2))"
      ]
     },
     "execution_count": 49,
     "metadata": {},
     "output_type": "execute_result"
    }
   ],
   "source": [
    "Interval(1, 2, True, True) + FiniteSet(2, 3)"
   ]
  },
  {
   "cell_type": "code",
   "execution_count": 50,
   "id": "4ba6e019",
   "metadata": {},
   "outputs": [
    {
     "data": {
      "text/latex": [
       "$\\displaystyle \\left(1, 2\\right]$"
      ],
      "text/plain": [
       "Interval.Lopen(1, 2)"
      ]
     },
     "execution_count": 50,
     "metadata": {},
     "output_type": "execute_result"
    }
   ],
   "source": [
    "Interval(0, 2) - Interval(0, 1)"
   ]
  },
  {
   "cell_type": "code",
   "execution_count": 51,
   "id": "fcb09c7c",
   "metadata": {},
   "outputs": [
    {
     "data": {
      "text/latex": [
       "$\\displaystyle \\left[1, 2\\right) \\cup \\left(2, 3\\right]$"
      ],
      "text/plain": [
       "Union(Interval.Ropen(1, 2), Interval.Lopen(2, 3))"
      ]
     },
     "execution_count": 51,
     "metadata": {},
     "output_type": "execute_result"
    }
   ],
   "source": [
    "Interval(1, 3) - FiniteSet(2)"
   ]
  },
  {
   "cell_type": "code",
   "execution_count": 54,
   "id": "772cc63e",
   "metadata": {},
   "outputs": [
    {
     "ename": "SyntaxError",
     "evalue": "unexpected character after line continuation character (<ipython-input-54-199353ca87fd>, line 10)",
     "output_type": "error",
     "traceback": [
      "\u001b[0;36m  File \u001b[0;32m\"<ipython-input-54-199353ca87fd>\"\u001b[0;36m, line \u001b[0;32m10\u001b[0m\n\u001b[0;31m    \\{ f(x) \\mid x \\in \\mathrm{self} \\}\u001b[0m\n\u001b[0m                                       ^\u001b[0m\n\u001b[0;31mSyntaxError\u001b[0m\u001b[0;31m:\u001b[0m unexpected character after line continuation character\n"
     ]
    }
   ],
   "source": [
    "# sympy.sets.sets.imageset(*args)\n",
    "\n",
    "# Return an image of the set under transformation f.\n",
    "\n",
    "# Explanation\n",
    "\n",
    "# If this function cannot compute the image, it returns an unevaluated ImageSet object.\n",
    "\n",
    "# instalar libreria de Tex (latex); MathJax Original Source\n",
    "\\{ f(x) \\mid x \\in \\mathrm{self} \\}\n",
    "\n",
    "''' #MathJax MathML Expression\n",
    "<math xmlns=\"http://www.w3.org/1998/Math/MathML\" display=\"block\">\n",
    "  <mo fence=\"false\" stretchy=\"false\">{</mo>\n",
    "  <mi>f</mi>\n",
    "  <mo stretchy=\"false\">(</mo>\n",
    "  <mi>x</mi>\n",
    "  <mo stretchy=\"false\">)</mo>\n",
    "  <mo>&#x2223;</mo>\n",
    "  <mi>x</mi>\n",
    "  <mo>&#x2208;</mo>\n",
    "  <mrow data-mjx-texclass=\"ORD\">\n",
    "    <mi data-mjx-auto-op=\"false\">self</mi>\n",
    "  </mrow>\n",
    "  <mo fence=\"false\" stretchy=\"false\">}</mo>\n",
    "</math>\n",
    "'''"
   ]
  },
  {
   "cell_type": "code",
   "execution_count": 55,
   "id": "4267d0ba",
   "metadata": {},
   "outputs": [],
   "source": [
    "from sympy import S, Interval, imageset, sin, Lambda\n",
    "from sympy.abc import x"
   ]
  },
  {
   "cell_type": "code",
   "execution_count": 56,
   "id": "2645a37e",
   "metadata": {},
   "outputs": [
    {
     "data": {
      "text/latex": [
       "$\\displaystyle \\left[0, 4\\right]$"
      ],
      "text/plain": [
       "Interval(0, 4)"
      ]
     },
     "execution_count": 56,
     "metadata": {},
     "output_type": "execute_result"
    }
   ],
   "source": [
    "imageset(x, 2*x, Interval(0, 2))"
   ]
  },
  {
   "cell_type": "code",
   "execution_count": 57,
   "id": "24d8d166",
   "metadata": {},
   "outputs": [
    {
     "data": {
      "text/latex": [
       "$\\displaystyle \\left[0, 4\\right]$"
      ],
      "text/plain": [
       "Interval(0, 4)"
      ]
     },
     "execution_count": 57,
     "metadata": {},
     "output_type": "execute_result"
    }
   ],
   "source": [
    "imageset(lambda x: 2*x, Interval(0, 2))"
   ]
  },
  {
   "cell_type": "code",
   "execution_count": 58,
   "id": "d835942b",
   "metadata": {},
   "outputs": [
    {
     "data": {
      "text/latex": [
       "$\\displaystyle \\left\\{\\sin{\\left(x \\right)}\\; \\middle|\\; x \\in \\left[-2, 1\\right]\\right\\}$"
      ],
      "text/plain": [
       "ImageSet(Lambda(x, sin(x)), Interval(-2, 1))"
      ]
     },
     "execution_count": 58,
     "metadata": {},
     "output_type": "execute_result"
    }
   ],
   "source": [
    "imageset(Lambda(x, sin(x)), Interval(-2, 1))"
   ]
  },
  {
   "cell_type": "code",
   "execution_count": 59,
   "id": "abe066ae",
   "metadata": {},
   "outputs": [
    {
     "data": {
      "text/latex": [
       "$\\displaystyle \\left\\{\\sin{\\left(x \\right)}\\; \\middle|\\; x \\in \\left[-2, 1\\right]\\right\\}$"
      ],
      "text/plain": [
       "ImageSet(Lambda(x, sin(x)), Interval(-2, 1))"
      ]
     },
     "execution_count": 59,
     "metadata": {},
     "output_type": "execute_result"
    }
   ],
   "source": [
    "imageset(sin, Interval(-2, 1))\n"
   ]
  },
  {
   "cell_type": "code",
   "execution_count": 60,
   "id": "200d0669",
   "metadata": {},
   "outputs": [
    {
     "data": {
      "text/latex": [
       "$\\displaystyle \\left\\{x + y\\; \\middle|\\; y \\in \\left[-2, 1\\right]\\right\\}$"
      ],
      "text/plain": [
       "ImageSet(Lambda(y, x + y), Interval(-2, 1))"
      ]
     },
     "execution_count": 60,
     "metadata": {},
     "output_type": "execute_result"
    }
   ],
   "source": [
    "imageset(lambda y: x + y, Interval(-2, 1))"
   ]
  },
  {
   "cell_type": "code",
   "execution_count": 66,
   "id": "c07f8dd9",
   "metadata": {},
   "outputs": [
    {
     "data": {
      "text/latex": [
       "$\\displaystyle \\left[0, 1\\right]$"
      ],
      "text/plain": [
       "Interval(0, 1)"
      ]
     },
     "execution_count": 66,
     "metadata": {},
     "output_type": "execute_result"
    }
   ],
   "source": [
    "'''\n",
    "Elementary Sets\n",
    "Interval\n",
    "class sympy.sets.sets.Interval(start, end, left_open=False, right_open=False)     [source]\n",
    "Represents a real interval as a Set.\n",
    "\n",
    "Usage:\n",
    "Returns an interval with end points start and end.\n",
    "\n",
    "For left_open=True (default left_open is False) the interval will be open on the left. Similarly, for right_open=True the interval will be open on the right.\n",
    "'''\n",
    "from sympy import Symbol, Interval\n",
    "Interval(0, 1)\n"
   ]
  },
  {
   "cell_type": "code",
   "execution_count": 62,
   "id": "310bceaa",
   "metadata": {},
   "outputs": [
    {
     "data": {
      "text/latex": [
       "$\\displaystyle \\left[0, 1\\right)$"
      ],
      "text/plain": [
       "Interval.Ropen(0, 1)"
      ]
     },
     "execution_count": 62,
     "metadata": {},
     "output_type": "execute_result"
    }
   ],
   "source": [
    "Interval.Ropen(0, 1)\n"
   ]
  },
  {
   "cell_type": "code",
   "execution_count": 63,
   "id": "56d75177",
   "metadata": {},
   "outputs": [
    {
     "data": {
      "text/latex": [
       "$\\displaystyle \\left[0, 1\\right)$"
      ],
      "text/plain": [
       "Interval.Ropen(0, 1)"
      ]
     },
     "execution_count": 63,
     "metadata": {},
     "output_type": "execute_result"
    }
   ],
   "source": [
    "Interval.Ropen(0, 1)\n"
   ]
  },
  {
   "cell_type": "code",
   "execution_count": 64,
   "id": "a8dbeacf",
   "metadata": {},
   "outputs": [
    {
     "data": {
      "text/latex": [
       "$\\displaystyle \\left(0, 1\\right]$"
      ],
      "text/plain": [
       "Interval.Lopen(0, 1)"
      ]
     },
     "execution_count": 64,
     "metadata": {},
     "output_type": "execute_result"
    }
   ],
   "source": [
    "Interval.Lopen(0, 1)\n"
   ]
  },
  {
   "cell_type": "code",
   "execution_count": 65,
   "id": "ed8058da",
   "metadata": {},
   "outputs": [
    {
     "data": {
      "text/latex": [
       "$\\displaystyle \\left(0, 1\\right)$"
      ],
      "text/plain": [
       "Interval.open(0, 1)"
      ]
     },
     "execution_count": 65,
     "metadata": {},
     "output_type": "execute_result"
    }
   ],
   "source": [
    "Interval.open(0, 1)"
   ]
  },
  {
   "cell_type": "code",
   "execution_count": 67,
   "id": "4fd619c2",
   "metadata": {},
   "outputs": [
    {
     "data": {
      "text/latex": [
       "$\\displaystyle \\left\\{1, 2, 3, 4, 5\\right\\}$"
      ],
      "text/plain": [
       "{1, 2, 3, 4, 5}"
      ]
     },
     "execution_count": 67,
     "metadata": {},
     "output_type": "execute_result"
    }
   ],
   "source": [
    "from sympy import FiniteSet, Symbol, Interval, Naturals0\n",
    "FiniteSet(1, 2, 3, 4)\n",
    "3 in FiniteSet(1, 2, 3, 4)\n",
    "FiniteSet(1, (1, 2), Symbol('x'))\n",
    "FiniteSet(Interval(1, 2), Naturals0, {1, 2})\n",
    "members = [1, 2, 3, 4]\n",
    "f = FiniteSet(*members)\n",
    "f\n",
    "f - FiniteSet(2)\n",
    "f + FiniteSet(2, 5)"
   ]
  },
  {
   "cell_type": "code",
   "execution_count": 68,
   "id": "0d9039b5",
   "metadata": {},
   "outputs": [
    {
     "data": {
      "text/latex": [
       "$\\displaystyle \\left[1, 2\\right] \\cup \\left[3, 4\\right]$"
      ],
      "text/plain": [
       "Union(Interval(1, 2), Interval(3, 4))"
      ]
     },
     "execution_count": 68,
     "metadata": {},
     "output_type": "execute_result"
    }
   ],
   "source": [
    "'''Compound Sets\n",
    "Union\n",
    "class sympy.sets.sets.Union(*args, **kwargs)[source]\n",
    "Represents a union of sets as a Set.'''\n",
    "\n",
    "from sympy import Union, Interval\n",
    "Union(Interval(1, 2), Interval(3, 4))"
   ]
  },
  {
   "cell_type": "code",
   "execution_count": 69,
   "id": "8b85cab4",
   "metadata": {},
   "outputs": [
    {
     "data": {
      "text/latex": [
       "$\\displaystyle \\left[1, 3\\right]$"
      ],
      "text/plain": [
       "Interval(1, 3)"
      ]
     },
     "execution_count": 69,
     "metadata": {},
     "output_type": "execute_result"
    }
   ],
   "source": [
    "Union(Interval(1, 2), Interval(2, 3))"
   ]
  },
  {
   "cell_type": "code",
   "execution_count": 70,
   "id": "befd92ee",
   "metadata": {},
   "outputs": [
    {
     "data": {
      "text/latex": [
       "$\\displaystyle \\left[0, 5\\right] \\times \\left\\{1, 2, 3\\right\\}$"
      ],
      "text/plain": [
       "ProductSet(Interval(0, 5), {1, 2, 3})"
      ]
     },
     "execution_count": 70,
     "metadata": {},
     "output_type": "execute_result"
    }
   ],
   "source": [
    "'''ProductSet\n",
    "class sympy.sets.sets.ProductSet(*sets, **assumptions)[source]\n",
    "Represents a Cartesian Product of Sets.\n",
    "\n",
    "Explanation\n",
    "\n",
    "Returns a Cartesian product given several sets as either an iterable or individual arguments.\n",
    "\n",
    "Can use * operator on any sets for convenient shorthand.'''\n",
    "\n",
    "\n",
    "from sympy import Interval, FiniteSet, ProductSet\n",
    "I = Interval(0, 5); S = FiniteSet(1, 2, 3)\n",
    "ProductSet(I, S)"
   ]
  },
  {
   "cell_type": "code",
   "execution_count": 71,
   "id": "837e8bc6",
   "metadata": {},
   "outputs": [
    {
     "data": {
      "text/plain": [
       "True"
      ]
     },
     "execution_count": 71,
     "metadata": {},
     "output_type": "execute_result"
    }
   ],
   "source": [
    "(2, 2) in ProductSet(I, S)"
   ]
  },
  {
   "cell_type": "code",
   "execution_count": 72,
   "id": "b0f89fdc",
   "metadata": {},
   "outputs": [
    {
     "data": {
      "text/latex": [
       "$\\displaystyle \\left[0, 1\\right]^{2}$"
      ],
      "text/plain": [
       "ProductSet(Interval(0, 1), Interval(0, 1))"
      ]
     },
     "execution_count": 72,
     "metadata": {},
     "output_type": "execute_result"
    }
   ],
   "source": [
    "Interval(0, 1) * Interval(0, 1) # The unit square"
   ]
  },
  {
   "cell_type": "code",
   "execution_count": 73,
   "id": "c2aeb272",
   "metadata": {},
   "outputs": [
    {
     "data": {
      "text/plain": [
       "{(H, H), (H, T), (T, H), (T, T)}"
      ]
     },
     "execution_count": 73,
     "metadata": {},
     "output_type": "execute_result"
    }
   ],
   "source": [
    "coin = FiniteSet('H', 'T')\n",
    "set(coin**2)"
   ]
  },
  {
   "cell_type": "code",
   "execution_count": 76,
   "id": "cbacb891",
   "metadata": {},
   "outputs": [
    {
     "data": {
      "text/plain": [
       "False"
      ]
     },
     "execution_count": 76,
     "metadata": {},
     "output_type": "execute_result"
    }
   ],
   "source": [
    "'''The Cartesian product is not commutative or associative e.g.:'''\n",
    "I*S == S*I\n"
   ]
  },
  {
   "cell_type": "code",
   "execution_count": 75,
   "id": "8bc1447a",
   "metadata": {},
   "outputs": [
    {
     "data": {
      "text/plain": [
       "False"
      ]
     },
     "execution_count": 75,
     "metadata": {},
     "output_type": "execute_result"
    }
   ],
   "source": [
    "(I*I)*I == I*(I*I)"
   ]
  },
  {
   "cell_type": "code",
   "execution_count": 77,
   "id": "21b97733",
   "metadata": {},
   "outputs": [
    {
     "data": {
      "text/latex": [
       "$\\displaystyle \\left\\{0, 2\\right\\}$"
      ],
      "text/plain": [
       "{0, 2}"
      ]
     },
     "execution_count": 77,
     "metadata": {},
     "output_type": "execute_result"
    }
   ],
   "source": [
    "'''Complement\n",
    "class sympy.sets.sets.Complement(a, b, evaluate=True)[source]\n",
    "Represents the set difference or relative complement of a set with another set.\n",
    "\n",
    "A - B = \\{x \\in A \\mid x \\notin B\\}\n",
    "'''\n",
    "\n",
    "from sympy import Complement, FiniteSet\n",
    "Complement(FiniteSet(0, 1, 2), FiniteSet(1))"
   ]
  },
  {
   "cell_type": "code",
   "execution_count": 79,
   "id": "bd1e8c80",
   "metadata": {},
   "outputs": [],
   "source": [
    "from sympy import S, Interval"
   ]
  },
  {
   "cell_type": "code",
   "execution_count": 81,
   "id": "0b62d9b8",
   "metadata": {},
   "outputs": [
    {
     "data": {
      "text/latex": [
       "$\\displaystyle \\mathbb{U}$"
      ],
      "text/plain": [
       "UniversalSet"
      ]
     },
     "execution_count": 81,
     "metadata": {},
     "output_type": "execute_result"
    }
   ],
   "source": [
    "S.UniversalSet"
   ]
  },
  {
   "cell_type": "code",
   "execution_count": 80,
   "id": "0a92b6b7",
   "metadata": {},
   "outputs": [
    {
     "data": {
      "text/latex": [
       "$\\displaystyle \\left[1, 2\\right]$"
      ],
      "text/plain": [
       "Interval(1, 2)"
      ]
     },
     "execution_count": 80,
     "metadata": {},
     "output_type": "execute_result"
    }
   ],
   "source": [
    "Interval(1, 2).intersect(S.UniversalSet)"
   ]
  },
  {
   "cell_type": "code",
   "execution_count": 82,
   "id": "d7e3df77",
   "metadata": {},
   "outputs": [
    {
     "data": {
      "text/plain": [
       "[0, 1, -1, 1/2, 2, -1/2, -2, 1/3, 3, -1/3, -3, 2/3]"
      ]
     },
     "execution_count": 82,
     "metadata": {},
     "output_type": "execute_result"
    }
   ],
   "source": [
    "'''Special Sets\n",
    "Rationals\n",
    "class sympy.sets.fancysets.Rationals[source]\n",
    "Represents the rational numbers. This set is also available as the singleton S.Rationals.'''\n",
    "from sympy import S\n",
    "S.Half in S.Rationals\n",
    "iterable = iter(S.Rationals)\n",
    "[next(iterable) for i in range(12)]"
   ]
  },
  {
   "cell_type": "code",
   "execution_count": 84,
   "id": "7c95e655",
   "metadata": {},
   "outputs": [
    {
     "name": "stdout",
     "output_type": "stream",
     "text": [
      "{1, 2, …, 10}\n"
     ]
    }
   ],
   "source": [
    "'''Naturals\n",
    "class sympy.sets.fancysets.Naturals[source]\n",
    "Represents the natural numbers (or counting numbers) \n",
    "which are all positive integers starting from 1. \n",
    "This set is also available as the singleton S.Naturals.'''\n",
    "\n",
    "from sympy import S, Interval, pprint\n",
    "5 in S.Naturals\n",
    "iterable = iter(S.Naturals)\n",
    "next(iterable)\n",
    "next(iterable)\n",
    "next(iterable)\n",
    "pprint(S.Naturals.intersect(Interval(0, 10)))"
   ]
  },
  {
   "cell_type": "code",
   "execution_count": 85,
   "id": "4eb15b42",
   "metadata": {},
   "outputs": [
    {
     "data": {
      "text/latex": [
       "$\\displaystyle 2$"
      ],
      "text/plain": [
       "2"
      ]
     },
     "execution_count": 85,
     "metadata": {},
     "output_type": "execute_result"
    }
   ],
   "source": [
    "'''Integers\n",
    "class sympy.sets.fancysets.Integers[source]\n",
    "Represents all integers: positive, negative and zero. This set is also available as the singleton S.Integers.'''\n",
    "from sympy import S, Interval, pprint\n",
    "5 in S.Naturals\n",
    "iterable = iter(S.Integers)\n",
    "next(iterable)\n",
    "next(iterable)\n",
    "next(iterable)\n",
    "next(iterable)"
   ]
  },
  {
   "cell_type": "code",
   "execution_count": 86,
   "id": "b65e4fa2",
   "metadata": {},
   "outputs": [
    {
     "name": "stdout",
     "output_type": "stream",
     "text": [
      "{-4, -3, …, 4}\n"
     ]
    }
   ],
   "source": [
    "pprint(S.Integers.intersect(Interval(-4, 4)))"
   ]
  },
  {
   "cell_type": "code",
   "execution_count": 87,
   "id": "ddb7f853",
   "metadata": {},
   "outputs": [
    {
     "data": {
      "text/plain": [
       "True"
      ]
     },
     "execution_count": 87,
     "metadata": {},
     "output_type": "execute_result"
    }
   ],
   "source": [
    "'''Reals\n",
    "class sympy.sets.fancysets.Reals[source]\n",
    "Represents all real numbers from negative infinity to positive infinity, including all integer, \n",
    "rational and irrational numbers. This set is also available as the singleton S.Reals.'''\n",
    "from sympy import S, Rational, pi, I\n",
    "5 in S.Reals\n"
   ]
  },
  {
   "cell_type": "code",
   "execution_count": 88,
   "id": "960d5f74",
   "metadata": {},
   "outputs": [
    {
     "data": {
      "text/plain": [
       "True"
      ]
     },
     "execution_count": 88,
     "metadata": {},
     "output_type": "execute_result"
    }
   ],
   "source": [
    "Rational(-1, 2) in S.Reals\n"
   ]
  },
  {
   "cell_type": "code",
   "execution_count": 89,
   "id": "c61072ce",
   "metadata": {},
   "outputs": [
    {
     "data": {
      "text/plain": [
       "True"
      ]
     },
     "execution_count": 89,
     "metadata": {},
     "output_type": "execute_result"
    }
   ],
   "source": [
    "pi in S.Reals\n"
   ]
  },
  {
   "cell_type": "code",
   "execution_count": 90,
   "id": "f334e6e9",
   "metadata": {},
   "outputs": [
    {
     "data": {
      "text/plain": [
       "False"
      ]
     },
     "execution_count": 90,
     "metadata": {},
     "output_type": "execute_result"
    }
   ],
   "source": [
    "3*I in S.Reals\n"
   ]
  },
  {
   "cell_type": "code",
   "execution_count": 91,
   "id": "1dc7c12f",
   "metadata": {},
   "outputs": [
    {
     "data": {
      "text/latex": [
       "$\\displaystyle \\text{True}$"
      ],
      "text/plain": [
       "True"
      ]
     },
     "execution_count": 91,
     "metadata": {},
     "output_type": "execute_result"
    }
   ],
   "source": [
    "S.Reals.contains(pi)"
   ]
  },
  {
   "cell_type": "code",
   "execution_count": 92,
   "id": "1099c1c8",
   "metadata": {},
   "outputs": [
    {
     "data": {
      "text/latex": [
       "$\\displaystyle \\mathbb{C}$"
      ],
      "text/plain": [
       "Complexes"
      ]
     },
     "execution_count": 92,
     "metadata": {},
     "output_type": "execute_result"
    }
   ],
   "source": [
    "'''Complexes\n",
    "class sympy.sets.fancysets.Complexes[source]\n",
    "The Set of all complex numbers\n",
    "'''\n",
    "\n",
    "from sympy import S, I\n",
    "S.Complexes\n"
   ]
  },
  {
   "cell_type": "code",
   "execution_count": 93,
   "id": "eafec328",
   "metadata": {},
   "outputs": [
    {
     "data": {
      "text/plain": [
       "True"
      ]
     },
     "execution_count": 93,
     "metadata": {},
     "output_type": "execute_result"
    }
   ],
   "source": [
    "1 + I in S.Complexes"
   ]
  },
  {
   "cell_type": "code",
   "execution_count": 94,
   "id": "cacdea26",
   "metadata": {},
   "outputs": [],
   "source": [
    "'''ImageSet\n",
    "class sympy.sets.fancysets.ImageSet(flambda, *sets)[source]\n",
    "Image of a set under a mathematical function. The transformation must be \n",
    "given as a Lambda function which has as many arguments as the elements of \n",
    "the set upon which it operates, e.g. 1 argument when acting on the set of \n",
    "integers or 2 arguments when acting on a complex region.\n",
    "\n",
    "This function is not normally called directly, but is called from imageset.'''\n",
    "\n",
    "from sympy import Symbol, S, pi, Dummy, Lambda\n",
    "from sympy import FiniteSet, ImageSet, Interval"
   ]
  },
  {
   "cell_type": "code",
   "execution_count": 95,
   "id": "f4000dc9",
   "metadata": {},
   "outputs": [
    {
     "data": {
      "text/plain": [
       "True"
      ]
     },
     "execution_count": 95,
     "metadata": {},
     "output_type": "execute_result"
    }
   ],
   "source": [
    "x = Symbol('x')\n",
    "N = S.Naturals\n",
    "squares = ImageSet(Lambda(x, x**2), N) # {x**2 for x in N}\n",
    "4 in squares\n"
   ]
  },
  {
   "cell_type": "code",
   "execution_count": 96,
   "id": "7cebe049",
   "metadata": {},
   "outputs": [
    {
     "data": {
      "text/plain": [
       "False"
      ]
     },
     "execution_count": 96,
     "metadata": {},
     "output_type": "execute_result"
    }
   ],
   "source": [
    "5 in squares"
   ]
  },
  {
   "cell_type": "code",
   "execution_count": 97,
   "id": "839443cc",
   "metadata": {},
   "outputs": [
    {
     "data": {
      "text/latex": [
       "$\\displaystyle \\left\\{1, 4, 9\\right\\}$"
      ],
      "text/plain": [
       "{1, 4, 9}"
      ]
     },
     "execution_count": 97,
     "metadata": {},
     "output_type": "execute_result"
    }
   ],
   "source": [
    "FiniteSet(0, 1, 2, 3, 4, 5, 6, 7, 9, 10).intersect(squares)"
   ]
  },
  {
   "cell_type": "code",
   "execution_count": 100,
   "id": "a47b896d",
   "metadata": {},
   "outputs": [
    {
     "name": "stdout",
     "output_type": "stream",
     "text": [
      "<generator object ImageSet.__iter__ at 0x7f4bc7f76430>\n"
     ]
    }
   ],
   "source": [
    "square_iterable = iter(squares)\n",
    "for i in range(4):\n",
    "    next(square_iterable)\n",
    "print(square_iterable)"
   ]
  },
  {
   "cell_type": "code",
   "execution_count": 101,
   "id": "638819b5",
   "metadata": {},
   "outputs": [],
   "source": [
    "square_iterable = iter(squares)"
   ]
  },
  {
   "cell_type": "code",
   "execution_count": 102,
   "id": "e01b439e",
   "metadata": {},
   "outputs": [],
   "source": [
    "for i in range(4):\n",
    "    next(square_iterable)"
   ]
  },
  {
   "cell_type": "code",
   "execution_count": 104,
   "id": "17d668d9",
   "metadata": {},
   "outputs": [
    {
     "name": "stdout",
     "output_type": "stream",
     "text": [
      "81\n",
      "100\n",
      "121\n",
      "144\n"
     ]
    }
   ],
   "source": [
    "for i in range(4):\n",
    "    print(next(square_iterable))\n",
    "\"ojo da distinto porque tiene otras variables almacenadas\""
   ]
  },
  {
   "cell_type": "code",
   "execution_count": 105,
   "id": "72b3244d",
   "metadata": {},
   "outputs": [],
   "source": [
    "'''Condition Sets\n",
    "ConditionSet\n",
    "class sympy.sets.conditionset.ConditionSet(sym, condition, base_set=UniversalSet)[source]\n",
    "Set of elements which satisfies a given condition.\n",
    "\n",
    "\\{x \\mid \\textrm{condition}(x) = \\texttt{True}, x \\in S\\}\n",
    "'''\n",
    "\n",
    "from sympy import Symbol, S, ConditionSet, pi, Eq, sin, Interval\n",
    "from sympy.abc import x, y, z"
   ]
  },
  {
   "cell_type": "code",
   "execution_count": 106,
   "id": "b8c9320a",
   "metadata": {},
   "outputs": [
    {
     "data": {
      "text/plain": [
       "True"
      ]
     },
     "execution_count": 106,
     "metadata": {},
     "output_type": "execute_result"
    }
   ],
   "source": [
    "sin_sols = ConditionSet(x, Eq(sin(x), 0), Interval(0, 2*pi))\n",
    "2*pi in sin_sols\n"
   ]
  },
  {
   "cell_type": "code",
   "execution_count": 107,
   "id": "aaf6cb8c",
   "metadata": {},
   "outputs": [
    {
     "data": {
      "text/plain": [
       "False"
      ]
     },
     "execution_count": 107,
     "metadata": {},
     "output_type": "execute_result"
    }
   ],
   "source": [
    "pi/2 in sin_sols\n"
   ]
  },
  {
   "cell_type": "code",
   "execution_count": 108,
   "id": "2a08d863",
   "metadata": {},
   "outputs": [
    {
     "data": {
      "text/plain": [
       "False"
      ]
     },
     "execution_count": 108,
     "metadata": {},
     "output_type": "execute_result"
    }
   ],
   "source": [
    "3*pi in sin_sols\n"
   ]
  },
  {
   "cell_type": "code",
   "execution_count": 109,
   "id": "f1297d47",
   "metadata": {},
   "outputs": [
    {
     "data": {
      "text/plain": [
       "True"
      ]
     },
     "execution_count": 109,
     "metadata": {},
     "output_type": "execute_result"
    }
   ],
   "source": [
    "5 in ConditionSet(x, x**2 > 4, S.Reals)"
   ]
  },
  {
   "cell_type": "code",
   "execution_count": 110,
   "id": "9e59bc16",
   "metadata": {},
   "outputs": [
    {
     "data": {
      "text/plain": [
       "False"
      ]
     },
     "execution_count": 110,
     "metadata": {},
     "output_type": "execute_result"
    }
   ],
   "source": [
    "#If the value is not in the base set, the result is false:\n",
    "5 in ConditionSet(x, x**2 > 4, Interval(2, 4))"
   ]
  },
  {
   "cell_type": "code",
   "execution_count": 111,
   "id": "f1a1beeb",
   "metadata": {},
   "outputs": [],
   "source": [
    "## leer Notes de condition sets"
   ]
  },
  {
   "cell_type": "code",
   "execution_count": 114,
   "id": "f0fbee3f",
   "metadata": {},
   "outputs": [
    {
     "data": {
      "text/latex": [
       "$\\displaystyle \\text{True}$"
      ],
      "text/plain": [
       "True"
      ]
     },
     "execution_count": 114,
     "metadata": {},
     "output_type": "execute_result"
    }
   ],
   "source": [
    "'''Relations on sets\n",
    "class sympy.sets.conditionset.Contains(x, s)[source]\n",
    "Asserts that x is an element of the set S.'''\n",
    "\n",
    "from sympy import Symbol, Integer, S, Contains\n",
    "Contains(Integer(2), S.Integers)\n"
   ]
  },
  {
   "cell_type": "code",
   "execution_count": 115,
   "id": "27ae8baf",
   "metadata": {},
   "outputs": [
    {
     "data": {
      "text/latex": [
       "$\\displaystyle \\text{False}$"
      ],
      "text/plain": [
       "False"
      ]
     },
     "execution_count": 115,
     "metadata": {},
     "output_type": "execute_result"
    }
   ],
   "source": [
    "Contains(Integer(-2), S.Naturals)\n"
   ]
  },
  {
   "cell_type": "code",
   "execution_count": 116,
   "id": "e8d74b6e",
   "metadata": {},
   "outputs": [
    {
     "data": {
      "text/latex": [
       "$\\displaystyle i \\in \\mathbb{N}$"
      ],
      "text/plain": [
       "Contains(i, Naturals)"
      ]
     },
     "execution_count": 116,
     "metadata": {},
     "output_type": "execute_result"
    }
   ],
   "source": [
    "i = Symbol('i', integer=True)\n",
    "Contains(i, S.Naturals)"
   ]
  },
  {
   "cell_type": "code",
   "execution_count": null,
   "id": "2d40e4f3",
   "metadata": {},
   "outputs": [],
   "source": [
    "'''Combinatorics\n",
    "Contents\n",
    "Partitions\n",
    "Permutations\n",
    "Generators\n",
    "Permutation Groups\n",
    "Polyhedron\n",
    "Prufer Sequences\n",
    "Subsets\n",
    "Gray Code\n",
    "Named Groups\n",
    "Nilpotent, Abelian and Cyclic Numbers\n",
    "Utilities\n",
    "Group constructors\n",
    "Test Utilities\n",
    "Tensor Canonicalization\n",
    "Finitely Presented Groups\n",
    "Introduction\n",
    "The Construction of Finitely Presented Groups\n",
    "Free Groups and Words\n",
    "Coset Enumeration: The Todd-Coxeter Algorithm\n",
    "Subgroups of Finite Index\n",
    "Constructing a presentation for a subgroup\n",
    "Bibliography\n",
    "Polycyclic Groups\n",
    "Introduction\n",
    "The Construction of Polycyclic Groups\n",
    "The Construction of Collector\n",
    "Computation of Polycyclic Presentation\n",
    "Computation of Exponent Vector\n",
    "Bibliography\n",
    "'''"
   ]
  },
  {
   "cell_type": "code",
   "execution_count": 117,
   "id": "07bd393f",
   "metadata": {},
   "outputs": [
    {
     "data": {
      "text/latex": [
       "$\\displaystyle \\frac{d}{d x} g{\\left(x \\right)}$"
      ],
      "text/plain": [
       "Derivative(g(x), x)"
      ]
     },
     "execution_count": 117,
     "metadata": {},
     "output_type": "execute_result"
    }
   ],
   "source": [
    "'''Functions\n",
    "All functions support the methods documented below, inherited from sympy.core.function.Function.\n",
    "\n",
    "class sympy.core.function.Function(*args)[source]\n",
    "Base class for applied mathematical functions.\n",
    "\n",
    "It also serves as a constructor for undefined function classes.\n",
    "\n",
    "See the Writing Custom Functions guide for details on how to subclass Function and what methods can be defined.\n",
    "\n",
    "Examples\n",
    "\n",
    "Undefined Functions\n",
    "\n",
    "To create an undefined function, pass a string of the function name to Function.'''\n",
    "\n",
    "\n",
    "from sympy import Function, Symbol\n",
    "x = Symbol('x')\n",
    "f = Function('f')\n",
    "g = Function('g')(x)\n",
    "f\n",
    "f(x)\n",
    "g\n",
    "f(x).diff(x)\n",
    "g.diff(x)"
   ]
  },
  {
   "cell_type": "code",
   "execution_count": null,
   "id": "9b5578c0",
   "metadata": {},
   "outputs": [],
   "source": [
    "'''Contents\n",
    "Elementary\n",
    "sympy.functions.elementary.complexes\n",
    "re\n",
    "im\n",
    "sign\n",
    "Abs\n",
    "arg\n",
    "conjugate\n",
    "polar_lift\n",
    "periodic_argument\n",
    "principal_branch\n",
    "sympy.functions.elementary.trigonometric\n",
    "Trigonometric Functions\n",
    "sin\n",
    "cos\n",
    "tan\n",
    "cot\n",
    "sec\n",
    "csc\n",
    "sinc\n",
    "Trigonometric Inverses\n",
    "asin\n",
    "acos\n",
    "atan\n",
    "acot\n",
    "asec\n",
    "acsc\n",
    "atan2\n",
    "sympy.functions.elementary.hyperbolic\n",
    "Hyperbolic Functions\n",
    "HyperbolicFunction\n",
    "sinh\n",
    "cosh\n",
    "tanh\n",
    "coth\n",
    "sech\n",
    "csch\n",
    "Hyperbolic Inverses\n",
    "asinh\n",
    "acosh\n",
    "atanh\n",
    "acoth\n",
    "asech\n",
    "acsch\n",
    "sympy.functions.elementary.integers\n",
    "ceiling\n",
    "floor\n",
    "RoundFunction\n",
    "frac\n",
    "sympy.functions.elementary.exponential\n",
    "exp\n",
    "LambertW\n",
    "log\n",
    "exp_polar\n",
    "sympy.functions.elementary.piecewise\n",
    "ExprCondPair\n",
    "Piecewise\n",
    "sympy.functions.elementary.miscellaneous\n",
    "IdentityFunction\n",
    "Min\n",
    "Max\n",
    "root\n",
    "sqrt\n",
    "cbrt\n",
    "real_root\n",
    "Combinatorial\n",
    "bell\n",
    "bernoulli\n",
    "binomial\n",
    "catalan\n",
    "euler\n",
    "factorial\n",
    "subfactorial\n",
    "factorial2 / double factorial\n",
    "FallingFactorial\n",
    "fibonacci\n",
    "tribonacci\n",
    "harmonic\n",
    "lucas\n",
    "genocchi\n",
    "partition\n",
    "MultiFactorial\n",
    "RisingFactorial\n",
    "stirling\n",
    "Enumeration\n",
    "nC\n",
    "nP\n",
    "nT\n",
    "Special\n",
    "DiracDelta\n",
    "Heaviside\n",
    "Singularity Function\n",
    "Gamma, Beta and related Functions\n",
    "Error Functions and Fresnel Integrals\n",
    "Exponential, Logarithmic and Trigonometric Integrals\n",
    "Bessel Type Functions\n",
    "Airy Functions\n",
    "B-Splines\n",
    "Riemann Zeta and Related Functions\n",
    "Hypergeometric Functions\n",
    "Elliptic integrals\n",
    "Mathieu Functions\n",
    "Orthogonal Polynomials\n",
    "Spherical Harmonics\n",
    "Tensor Functions\n",
    "'''"
   ]
  },
  {
   "cell_type": "code",
   "execution_count": 118,
   "id": "754ff365",
   "metadata": {},
   "outputs": [],
   "source": [
    "'''Advanced Expression Manipulation\n",
    "In this section, we discuss some ways that we can perform advanced manipulation of expressions.\n",
    "\n",
    "Understanding Expression Trees\n",
    "Before we can do this, we need to understand how expressions are represented in SymPy. A mathematical expression is represented as a tree. Let us take the expression , i.e., x**2 + x*y. We can see what this expression looks like internally by using srepr\n",
    "\n",
    "'''\n",
    "from sympy import *\n",
    "x, y, z = symbols('x y z')"
   ]
  },
  {
   "cell_type": "code",
   "execution_count": 119,
   "id": "c67e84fb",
   "metadata": {},
   "outputs": [
    {
     "data": {
      "text/plain": [
       "\"Add(Pow(Symbol('x'), Integer(2)), Mul(Symbol('x'), Symbol('y')))\""
      ]
     },
     "execution_count": 119,
     "metadata": {},
     "output_type": "execute_result"
    }
   ],
   "source": [
    "expr = x**2 + x*y\n",
    "srepr(expr)"
   ]
  },
  {
   "cell_type": "code",
   "execution_count": null,
   "id": "d0b33933",
   "metadata": {},
   "outputs": [],
   "source": [
    "'''Writing Custom Functions\n",
    "This guide will describe how to create custom function classes in SymPy. Custom user defined functions use the same mechanisms as the functions that are included with SymPy such as the common elementary functions like exp() or sin(), special functions like gamma() or Si(), and combinatorial functions and number theory functions like factorial() or primepi(). Consequently, this guide serves both as a guide to end users who want to define their own custom functions and to SymPy developers wishing to extend the functions included with SymPy.\n",
    "\n",
    "This guide describes how to define complex valued functions, that is functions that map a subset of  to . Functions that accept or return other kinds of objects than complex numbers should subclass another class, such as Boolean, MatrixExpr, Expr, or Basic. Some of what is written here will apply to general Basic or Expr subclasses, but much of it only applies to Function subclasses.\n",
    "\n",
    "Easy Cases: Fully Symbolic or Fully Evaluated\n",
    "Before digging into the more advanced functionality for custom functions, we should mention two common cases, the case where the function is fully symbolic, and the case where the function is fully evaluated. Both of these cases have much simpler alternatives than the full mechanisms described in ths guide.\n",
    "\n",
    "\n",
    "Additional Tips\n",
    "SymPy includes dozens of functions. These can serve as useful examples for how to write a custom function, especially if the function is similar to one that is already implemented. Remember that everything in this guide applies equally well to functions that are included with SymPy and user-defined functions. Indeed, this guide is designed to serve as both a developer guide for contributors to SymPy and a guide for end-users of SymPy.\n",
    "\n",
    "If you have many custom functions that share common logic, you can use a common base class to contain this shared logic. For an example of this, see the source code for the trigonometric functions in SymPy, which use TrigonometricFunction, InverseTrigonometricFunction, and ReciprocalTrigonometricFunction base classes with some shared logic.\n",
    "\n",
    "As with any code, it is a good idea to write extensive tests for your function. The SymPy test suite is a good resource for examples of how to write tests for such functions. All code included in SymPy itself is required to be tested. Functions included in SymPy should also always contain a docstring with references, a mathematical definition, and doctest examples.\n",
    "\n",
    "\n",
    "'''"
   ]
  }
 ],
 "metadata": {
  "kernelspec": {
   "display_name": "Python 3 (ipykernel)",
   "language": "python",
   "name": "python3"
  },
  "language_info": {
   "codemirror_mode": {
    "name": "ipython",
    "version": 3
   },
   "file_extension": ".py",
   "mimetype": "text/x-python",
   "name": "python",
   "nbconvert_exporter": "python",
   "pygments_lexer": "ipython3",
   "version": "3.8.1"
  }
 },
 "nbformat": 4,
 "nbformat_minor": 5
}
